{
 "cells": [
  {
   "cell_type": "code",
   "execution_count": 1,
   "metadata": {
    "collapsed": true
   },
   "outputs": [
    {
     "name": "stdout",
     "output_type": "stream",
     "text": [
      "Populating the interactive namespace from numpy and matplotlib\n"
     ]
    },
    {
     "name": "stdout",
     "output_type": "stream",
     "text": [
      "C:\\Users\\Phil\\PycharmProjects\\MLCR-Challange2\n"
     ]
    }
   ],
   "source": [
    "%pylab inline\n",
    "#import DatasetCreator as dc\n",
    "import numpy as np\n",
    "import pylab\n",
    "import pandas as pd\n",
    "from sklearn.svm import SVR\n",
    "import sys\n",
    "import os\n",
    "print (os.getcwd()) \n",
    "project_path = 'C:\\\\Users\\\\Phil\\\\PycharmProjects\\\\MLCR-Challange2'\n",
    "sys.path.append(project_path)\n",
    "\n",
    "import DatasetCreator as dc\n",
    "import RegressionModels as models\n",
    "\n",
    "#load Data\n",
    "dataset = dc.createDataSet()\n",
    "features, target = dc.createInputAndOutputDataset(dataset, False)"
   ]
  },
  {
   "cell_type": "code",
   "execution_count": 6,
   "metadata": {},
   "outputs": [],
   "source": [
    ""
   ]
  },
  {
   "cell_type": "code",
   "execution_count": 2,
   "metadata": {},
   "outputs": [
    {
     "data": {
      "text/plain": [
       "SVR(C=1000.0, cache_size=200, coef0=0.0, degree=3, epsilon=0.1, gamma='auto',\n  kernel='rbf', max_iter=-1, shrinking=True, tol=0.001, verbose=False)"
      ]
     },
     "execution_count": 2,
     "metadata": {},
     "output_type": "execute_result"
    }
   ],
   "source": [
    "#create and Train Model\n",
    "svr_mdl = SVR(kernel='rbf', C=1e3)\n",
    "svr_mdl.fit(features, target)"
   ]
  },
  {
   "cell_type": "code",
   "execution_count": 8,
   "metadata": {},
   "outputs": [],
   "source": [
    "#predict\n",
    "n_features = features.shape[1]\n",
    "print (n_features)\n",
    "poi = np.zeros((1, n_features))\n",
    "for i in range(0, n_features):\n",
    "    print min(features[:,i])\n",
    "    \n",
    "    poi[:,i] = np.linspace(min(features[:,i]), max(features[:,i]), 100)\n",
    "\n",
    "predictions = svr_mdl.predict(poi)"
   ]
  },
  {
   "cell_type": "code",
   "execution_count": null,
   "metadata": {},
   "outputs": [],
   "source": [
    "# plot dataset and prediction\n",
    "plt.scatter(features[:,0], targets, color='black', label=\"data\")\n",
    "plt.plot(poi[:,0], predictions, color=\"red\", label=\"Linear\", linewidth=2)\n",
    "plt.title(\"SVR Model RBF\")\n",
    "plt.legend(loc=\"upper left\")\n",
    "plt.xlabel('Time of day')\n",
    "plt.ylabel('Reaction')\n",
    "plt.show()\n",
    "\n",
    "SSres = np.sum((predictions - targets)**2)\n",
    "print \"Residual sum of squares: %5.2f\" % SSres\n",
    "SStot = np.sum((targets - np.mean(targets))**2)\n",
    "SSreg = np.sum((predictions - np.mean(targets))**2)\n",
    "print \"Goodness of fit R²: %5.2f\" % (SSreg/SStot)"
   ]
  }
 ],
 "metadata": {
  "kernelspec": {
   "display_name": "Python 2",
   "language": "python",
   "name": "python2"
  },
  "language_info": {
   "codemirror_mode": {
    "name": "ipython",
    "version": 2.0
   },
   "file_extension": ".py",
   "mimetype": "text/x-python",
   "name": "python",
   "nbconvert_exporter": "python",
   "pygments_lexer": "ipython2",
   "version": "2.7.6"
  }
 },
 "nbformat": 4,
 "nbformat_minor": 0
}